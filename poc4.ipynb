{
 "cells": [
  {
   "cell_type": "markdown",
   "metadata": {},
   "source": [
    "# Predicting GBP/USD Currency Exchange Rate Using RNN (POC 4)\n",
    "## Step 1: Data Loading and Preprocessing\n",
    "\n",
    "\n",
    "The historical data contains information about the volume traded and the corresponding GBP/USD exchange rate at different timestamps.\n",
    "\n",
    "1) Import necessary libraries including numpy, pandas, scikit-learn, and Keras.\n",
    "2) Load Data: Load the historical data from a CSV file into a pandas DataFrame."
   ]
  },
  {
   "cell_type": "code",
   "execution_count": null,
   "metadata": {},
   "outputs": [],
   "source": [
    "import numpy as np\n",
    "import pandas as pd\n",
    "from sklearn.model_selection import train_test_split\n",
    "from sklearn.preprocessing import MinMaxScaler\n",
    "from sklearn.metrics import mean_squared_error, mean_absolute_percentage_error\n",
    "from keras.models import Sequential\n",
    "from keras.layers import LSTM, Dense\n",
    "from keras.optimizers import Adam\n",
    "\n",
    "# get the historical data of GBPUSD from 2022.01.01 to 2023.12.31\n",
    "# Load the ask dataset\n",
    "ask_data = pd.read_csv('GBPUSD_5 Mins_Ask_2022.01.01_2023.12.31.csv')\n",
    "\n",
    "# Load the bid dataset\n",
    "bid_data = pd.read_csv('GBPUSD_5 Mins_Bid_2022.01.01_2023.12.31.csv')\n",
    "\n",
    "# Ensure that both datasets are aligned by time before merging\n",
    "merged_data = pd.merge(ask_data, bid_data, on='Time (EET)', suffixes=('_ask', '_bid'))\n",
    "\n",
    "print(merged_data.shape)"
   ]
  },
  {
   "cell_type": "markdown",
   "metadata": {},
   "source": [
    "We’ll predict the **closing prices,** which can be accessed in the **Close column.**\n",
    "\n"
   ]
  },
  {
   "cell_type": "code",
   "execution_count": null,
   "metadata": {},
   "outputs": [],
   "source": [
    "# Selecting features and target\n",
    "features = merged_data[['Open_ask', 'Volume_ask', 'Volume_bid']].values\n",
    "target = merged_data['Close_ask'].values\n",
    "\n",
    "# Normalizing the data\n",
    "scaler = MinMaxScaler()\n",
    "features_scaled = scaler.fit_transform(features)\n",
    "target_scaled = scaler.fit_transform(target.reshape(-1, 1))\n",
    "\n",
    "# Splitting the data into training and testing sets\n",
    "X_train, X_test, y_train, y_test = train_test_split(features_scaled, target_scaled, test_size=0.2, random_state=42)\n",
    "\n",
    "# Reshaping input to be [samples, time steps, features] which is required for LSTM\n",
    "X_train = X_train.reshape((X_train.shape[0], 1, X_train.shape[1]))\n",
    "X_test = X_test.reshape((X_test.shape[0], 1, X_test.shape[1]))\n"
   ]
  },
  {
   "cell_type": "markdown",
   "metadata": {},
   "source": [
    "## Step 2: Model Building"
   ]
  },
  {
   "cell_type": "code",
   "execution_count": null,
   "metadata": {},
   "outputs": [],
   "source": [
    "# Building the LSTM model\n",
    "model = Sequential()\n",
    "model.add(LSTM(50, activation='relu', input_shape=(1, 3)))  # Adjusting the input_shape to account for three features\n",
    "model.add(Dense(1))\n",
    "model.compile(optimizer='adam', loss='mean_squared_error')\n",
    "\n",
    "print(model.summary()) "
   ]
  },
  {
   "cell_type": "markdown",
   "metadata": {},
   "source": [
    "\n",
    "## Step 3: Model Training"
   ]
  },
  {
   "cell_type": "code",
   "execution_count": null,
   "metadata": {},
   "outputs": [],
   "source": [
    "# Train the model\n",
    "model.fit(X_train, y_train, epochs=10, batch_size=32, verbose=1)"
   ]
  },
  {
   "cell_type": "markdown",
   "metadata": {},
   "source": [
    "## Step 4: Model Evaluation"
   ]
  },
  {
   "cell_type": "code",
   "execution_count": null,
   "metadata": {},
   "outputs": [],
   "source": [
    "# Predicting using the trained model\n",
    "predictions = model.predict(X_test)\n",
    "\n",
    "# Rescaling the predicted values back to original scale\n",
    "predictions_rescaled = scaler.inverse_transform(predictions)\n",
    "y_test_rescaled = scaler.inverse_transform(y_test)\n",
    "\n",
    "# Calculating the mean squared error and mean absolute percentage error\n",
    "mse = mean_squared_error(y_test_rescaled, predictions_rescaled)\n",
    "mape = mean_absolute_percentage_error(y_test_rescaled, predictions_rescaled)\n",
    "\n",
    "# Creating a table for results\n",
    "results_df = pd.DataFrame({\n",
    "    \"Metric\": [\"Mean Squared Error\", \"Mean Absolute Percentage Error\"],\n",
    "    \"Value\": [mse, mape]\n",
    "})\n",
    "\n",
    "# Displaying the results in a DataFrame\n",
    "print(results_df)"
   ]
  }
 ],
 "metadata": {
  "kernelspec": {
   "display_name": "kerasenv",
   "language": "python",
   "name": "python3"
  },
  "language_info": {
   "codemirror_mode": {
    "name": "ipython",
    "version": 3
   },
   "file_extension": ".py",
   "mimetype": "text/x-python",
   "name": "python",
   "nbconvert_exporter": "python",
   "pygments_lexer": "ipython3",
   "version": "3.8.18"
  }
 },
 "nbformat": 4,
 "nbformat_minor": 2
}
