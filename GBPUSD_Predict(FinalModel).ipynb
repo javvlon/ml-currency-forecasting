{
 "cells": [
  {
   "cell_type": "markdown",
   "metadata": {},
   "source": [
    "# Predicting GBP/USD Currency Exchange Rate Using RNN (Final model)\n"
   ]
  },
  {
   "cell_type": "markdown",
   "metadata": {},
   "source": [
    "## Install the dependencies"
   ]
  },
  {
   "cell_type": "code",
   "execution_count": 1,
   "metadata": {},
   "outputs": [
    {
     "name": "stdout",
     "output_type": "stream",
     "text": [
      "Requirement already satisfied: numpy in /Users/jawlon/miniconda3/envs/kerasenv/lib/python3.8/site-packages (1.22.3)\n",
      "Requirement already satisfied: pandas in /Users/jawlon/miniconda3/envs/kerasenv/lib/python3.8/site-packages (2.0.3)\n",
      "Requirement already satisfied: scikit-learn in /Users/jawlon/miniconda3/envs/kerasenv/lib/python3.8/site-packages (1.3.2)\n",
      "Requirement already satisfied: matplotlib in /Users/jawlon/miniconda3/envs/kerasenv/lib/python3.8/site-packages (3.7.5)\n",
      "Requirement already satisfied: keras in /Users/jawlon/miniconda3/envs/kerasenv/lib/python3.8/site-packages (2.13.1)\n",
      "Requirement already satisfied: tensorflow in /Users/jawlon/miniconda3/envs/kerasenv/lib/python3.8/site-packages (2.13.0)\n",
      "Requirement already satisfied: python-dateutil>=2.8.2 in /Users/jawlon/miniconda3/envs/kerasenv/lib/python3.8/site-packages (from pandas) (2.8.2)\n",
      "Requirement already satisfied: pytz>=2020.1 in /Users/jawlon/miniconda3/envs/kerasenv/lib/python3.8/site-packages (from pandas) (2023.3.post1)\n",
      "Requirement already satisfied: tzdata>=2022.1 in /Users/jawlon/miniconda3/envs/kerasenv/lib/python3.8/site-packages (from pandas) (2023.3)\n",
      "Requirement already satisfied: scipy>=1.5.0 in /Users/jawlon/miniconda3/envs/kerasenv/lib/python3.8/site-packages (from scikit-learn) (1.10.1)\n",
      "Requirement already satisfied: joblib>=1.1.1 in /Users/jawlon/miniconda3/envs/kerasenv/lib/python3.8/site-packages (from scikit-learn) (1.3.2)\n",
      "Requirement already satisfied: threadpoolctl>=2.0.0 in /Users/jawlon/miniconda3/envs/kerasenv/lib/python3.8/site-packages (from scikit-learn) (3.2.0)\n",
      "Requirement already satisfied: contourpy>=1.0.1 in /Users/jawlon/miniconda3/envs/kerasenv/lib/python3.8/site-packages (from matplotlib) (1.1.1)\n",
      "Requirement already satisfied: cycler>=0.10 in /Users/jawlon/miniconda3/envs/kerasenv/lib/python3.8/site-packages (from matplotlib) (0.12.1)\n",
      "Requirement already satisfied: fonttools>=4.22.0 in /Users/jawlon/miniconda3/envs/kerasenv/lib/python3.8/site-packages (from matplotlib) (4.50.0)\n",
      "Requirement already satisfied: kiwisolver>=1.0.1 in /Users/jawlon/miniconda3/envs/kerasenv/lib/python3.8/site-packages (from matplotlib) (1.4.5)\n",
      "Requirement already satisfied: packaging>=20.0 in /Users/jawlon/miniconda3/envs/kerasenv/lib/python3.8/site-packages (from matplotlib) (23.2)\n",
      "Requirement already satisfied: pillow>=6.2.0 in /Users/jawlon/miniconda3/envs/kerasenv/lib/python3.8/site-packages (from matplotlib) (10.2.0)\n",
      "Requirement already satisfied: pyparsing>=2.3.1 in /Users/jawlon/miniconda3/envs/kerasenv/lib/python3.8/site-packages (from matplotlib) (3.1.2)\n",
      "Requirement already satisfied: importlib-resources>=3.2.0 in /Users/jawlon/miniconda3/envs/kerasenv/lib/python3.8/site-packages (from matplotlib) (6.4.0)\n",
      "Requirement already satisfied: tensorflow-macos==2.13.0 in /Users/jawlon/miniconda3/envs/kerasenv/lib/python3.8/site-packages (from tensorflow) (2.13.0)\n",
      "Requirement already satisfied: absl-py>=1.0.0 in /Users/jawlon/miniconda3/envs/kerasenv/lib/python3.8/site-packages (from tensorflow-macos==2.13.0->tensorflow) (2.0.0)\n",
      "Requirement already satisfied: astunparse>=1.6.0 in /Users/jawlon/miniconda3/envs/kerasenv/lib/python3.8/site-packages (from tensorflow-macos==2.13.0->tensorflow) (1.6.3)\n",
      "Requirement already satisfied: flatbuffers>=23.1.21 in /Users/jawlon/miniconda3/envs/kerasenv/lib/python3.8/site-packages (from tensorflow-macos==2.13.0->tensorflow) (23.5.26)\n",
      "Requirement already satisfied: gast<=0.4.0,>=0.2.1 in /Users/jawlon/miniconda3/envs/kerasenv/lib/python3.8/site-packages (from tensorflow-macos==2.13.0->tensorflow) (0.4.0)\n",
      "Requirement already satisfied: google-pasta>=0.1.1 in /Users/jawlon/miniconda3/envs/kerasenv/lib/python3.8/site-packages (from tensorflow-macos==2.13.0->tensorflow) (0.2.0)\n",
      "Requirement already satisfied: h5py>=2.9.0 in /Users/jawlon/miniconda3/envs/kerasenv/lib/python3.8/site-packages (from tensorflow-macos==2.13.0->tensorflow) (3.6.0)\n",
      "Requirement already satisfied: libclang>=13.0.0 in /Users/jawlon/miniconda3/envs/kerasenv/lib/python3.8/site-packages (from tensorflow-macos==2.13.0->tensorflow) (16.0.6)\n",
      "Requirement already satisfied: opt-einsum>=2.3.2 in /Users/jawlon/miniconda3/envs/kerasenv/lib/python3.8/site-packages (from tensorflow-macos==2.13.0->tensorflow) (3.3.0)\n",
      "Requirement already satisfied: protobuf!=4.21.0,!=4.21.1,!=4.21.2,!=4.21.3,!=4.21.4,!=4.21.5,<5.0.0dev,>=3.20.3 in /Users/jawlon/miniconda3/envs/kerasenv/lib/python3.8/site-packages (from tensorflow-macos==2.13.0->tensorflow) (4.25.1)\n",
      "Requirement already satisfied: setuptools in /Users/jawlon/miniconda3/envs/kerasenv/lib/python3.8/site-packages (from tensorflow-macos==2.13.0->tensorflow) (68.0.0)\n",
      "Requirement already satisfied: six>=1.12.0 in /Users/jawlon/miniconda3/envs/kerasenv/lib/python3.8/site-packages (from tensorflow-macos==2.13.0->tensorflow) (1.16.0)\n",
      "Requirement already satisfied: termcolor>=1.1.0 in /Users/jawlon/miniconda3/envs/kerasenv/lib/python3.8/site-packages (from tensorflow-macos==2.13.0->tensorflow) (2.4.0)\n",
      "Requirement already satisfied: typing-extensions<4.6.0,>=3.6.6 in /Users/jawlon/miniconda3/envs/kerasenv/lib/python3.8/site-packages (from tensorflow-macos==2.13.0->tensorflow) (4.5.0)\n",
      "Requirement already satisfied: wrapt>=1.11.0 in /Users/jawlon/miniconda3/envs/kerasenv/lib/python3.8/site-packages (from tensorflow-macos==2.13.0->tensorflow) (1.16.0)\n",
      "Requirement already satisfied: grpcio<2.0,>=1.24.3 in /Users/jawlon/miniconda3/envs/kerasenv/lib/python3.8/site-packages (from tensorflow-macos==2.13.0->tensorflow) (1.48.2)\n",
      "Requirement already satisfied: tensorboard<2.14,>=2.13 in /Users/jawlon/miniconda3/envs/kerasenv/lib/python3.8/site-packages (from tensorflow-macos==2.13.0->tensorflow) (2.13.0)\n",
      "Requirement already satisfied: tensorflow-estimator<2.14,>=2.13.0 in /Users/jawlon/miniconda3/envs/kerasenv/lib/python3.8/site-packages (from tensorflow-macos==2.13.0->tensorflow) (2.13.0)\n",
      "Requirement already satisfied: zipp>=3.1.0 in /Users/jawlon/miniconda3/envs/kerasenv/lib/python3.8/site-packages (from importlib-resources>=3.2.0->matplotlib) (3.17.0)\n",
      "Requirement already satisfied: wheel<1.0,>=0.23.0 in /Users/jawlon/miniconda3/envs/kerasenv/lib/python3.8/site-packages (from astunparse>=1.6.0->tensorflow-macos==2.13.0->tensorflow) (0.41.2)\n",
      "Requirement already satisfied: google-auth<3,>=1.6.3 in /Users/jawlon/miniconda3/envs/kerasenv/lib/python3.8/site-packages (from tensorboard<2.14,>=2.13->tensorflow-macos==2.13.0->tensorflow) (2.25.2)\n",
      "Requirement already satisfied: google-auth-oauthlib<1.1,>=0.5 in /Users/jawlon/miniconda3/envs/kerasenv/lib/python3.8/site-packages (from tensorboard<2.14,>=2.13->tensorflow-macos==2.13.0->tensorflow) (1.0.0)\n",
      "Requirement already satisfied: markdown>=2.6.8 in /Users/jawlon/miniconda3/envs/kerasenv/lib/python3.8/site-packages (from tensorboard<2.14,>=2.13->tensorflow-macos==2.13.0->tensorflow) (3.5.1)\n",
      "Requirement already satisfied: requests<3,>=2.21.0 in /Users/jawlon/miniconda3/envs/kerasenv/lib/python3.8/site-packages (from tensorboard<2.14,>=2.13->tensorflow-macos==2.13.0->tensorflow) (2.31.0)\n",
      "Requirement already satisfied: tensorboard-data-server<0.8.0,>=0.7.0 in /Users/jawlon/miniconda3/envs/kerasenv/lib/python3.8/site-packages (from tensorboard<2.14,>=2.13->tensorflow-macos==2.13.0->tensorflow) (0.7.2)\n",
      "Requirement already satisfied: werkzeug>=1.0.1 in /Users/jawlon/miniconda3/envs/kerasenv/lib/python3.8/site-packages (from tensorboard<2.14,>=2.13->tensorflow-macos==2.13.0->tensorflow) (3.0.1)\n",
      "Requirement already satisfied: cachetools<6.0,>=2.0.0 in /Users/jawlon/miniconda3/envs/kerasenv/lib/python3.8/site-packages (from google-auth<3,>=1.6.3->tensorboard<2.14,>=2.13->tensorflow-macos==2.13.0->tensorflow) (5.3.2)\n",
      "Requirement already satisfied: pyasn1-modules>=0.2.1 in /Users/jawlon/miniconda3/envs/kerasenv/lib/python3.8/site-packages (from google-auth<3,>=1.6.3->tensorboard<2.14,>=2.13->tensorflow-macos==2.13.0->tensorflow) (0.3.0)\n",
      "Requirement already satisfied: rsa<5,>=3.1.4 in /Users/jawlon/miniconda3/envs/kerasenv/lib/python3.8/site-packages (from google-auth<3,>=1.6.3->tensorboard<2.14,>=2.13->tensorflow-macos==2.13.0->tensorflow) (4.9)\n",
      "Requirement already satisfied: requests-oauthlib>=0.7.0 in /Users/jawlon/miniconda3/envs/kerasenv/lib/python3.8/site-packages (from google-auth-oauthlib<1.1,>=0.5->tensorboard<2.14,>=2.13->tensorflow-macos==2.13.0->tensorflow) (1.3.1)\n",
      "Requirement already satisfied: importlib-metadata>=4.4 in /Users/jawlon/miniconda3/envs/kerasenv/lib/python3.8/site-packages (from markdown>=2.6.8->tensorboard<2.14,>=2.13->tensorflow-macos==2.13.0->tensorflow) (7.0.0)\n",
      "Requirement already satisfied: charset-normalizer<4,>=2 in /Users/jawlon/miniconda3/envs/kerasenv/lib/python3.8/site-packages (from requests<3,>=2.21.0->tensorboard<2.14,>=2.13->tensorflow-macos==2.13.0->tensorflow) (3.3.2)\n",
      "Requirement already satisfied: idna<4,>=2.5 in /Users/jawlon/miniconda3/envs/kerasenv/lib/python3.8/site-packages (from requests<3,>=2.21.0->tensorboard<2.14,>=2.13->tensorflow-macos==2.13.0->tensorflow) (3.6)\n",
      "Requirement already satisfied: urllib3<3,>=1.21.1 in /Users/jawlon/miniconda3/envs/kerasenv/lib/python3.8/site-packages (from requests<3,>=2.21.0->tensorboard<2.14,>=2.13->tensorflow-macos==2.13.0->tensorflow) (2.1.0)\n",
      "Requirement already satisfied: certifi>=2017.4.17 in /Users/jawlon/miniconda3/envs/kerasenv/lib/python3.8/site-packages (from requests<3,>=2.21.0->tensorboard<2.14,>=2.13->tensorflow-macos==2.13.0->tensorflow) (2023.11.17)\n",
      "Requirement already satisfied: MarkupSafe>=2.1.1 in /Users/jawlon/miniconda3/envs/kerasenv/lib/python3.8/site-packages (from werkzeug>=1.0.1->tensorboard<2.14,>=2.13->tensorflow-macos==2.13.0->tensorflow) (2.1.3)\n",
      "Requirement already satisfied: pyasn1<0.6.0,>=0.4.6 in /Users/jawlon/miniconda3/envs/kerasenv/lib/python3.8/site-packages (from pyasn1-modules>=0.2.1->google-auth<3,>=1.6.3->tensorboard<2.14,>=2.13->tensorflow-macos==2.13.0->tensorflow) (0.5.1)\n",
      "Requirement already satisfied: oauthlib>=3.0.0 in /Users/jawlon/miniconda3/envs/kerasenv/lib/python3.8/site-packages (from requests-oauthlib>=0.7.0->google-auth-oauthlib<1.1,>=0.5->tensorboard<2.14,>=2.13->tensorflow-macos==2.13.0->tensorflow) (3.2.2)\n",
      "Note: you may need to restart the kernel to use updated packages.\n"
     ]
    }
   ],
   "source": [
    "%pip install numpy pandas scikit-learn matplotlib keras tensorflow"
   ]
  },
  {
   "cell_type": "markdown",
   "metadata": {},
   "source": [
    "To finalize the model that uses LSTM with the 'Open' and 'Volume' features on 5-minute tick data, and then demonstrate predictions, we'll execute the following steps:\n",
    "\n",
    "1) Train the Final Model using the entire dataset.\n",
    "2) Make Predictions using the most recent data.\n",
    "3) Visualize the Results on a plot to compare the actual closing prices with the predicted ones."
   ]
  },
  {
   "cell_type": "markdown",
   "metadata": {},
   "source": [
    "## Step 1: Data Loading and Preprocessing\n"
   ]
  },
  {
   "cell_type": "code",
   "execution_count": 2,
   "metadata": {},
   "outputs": [
    {
     "name": "stdout",
     "output_type": "stream",
     "text": [
      "(149580, 6)\n"
     ]
    },
    {
     "data": {
      "text/html": [
       "<div>\n",
       "<style scoped>\n",
       "    .dataframe tbody tr th:only-of-type {\n",
       "        vertical-align: middle;\n",
       "    }\n",
       "\n",
       "    .dataframe tbody tr th {\n",
       "        vertical-align: top;\n",
       "    }\n",
       "\n",
       "    .dataframe thead th {\n",
       "        text-align: right;\n",
       "    }\n",
       "</style>\n",
       "<table border=\"1\" class=\"dataframe\">\n",
       "  <thead>\n",
       "    <tr style=\"text-align: right;\">\n",
       "      <th></th>\n",
       "      <th>Time (EET)</th>\n",
       "      <th>Open</th>\n",
       "      <th>High</th>\n",
       "      <th>Low</th>\n",
       "      <th>Close</th>\n",
       "      <th>Volume</th>\n",
       "    </tr>\n",
       "  </thead>\n",
       "  <tbody>\n",
       "    <tr>\n",
       "      <th>0</th>\n",
       "      <td>2022.01.03 00:00:00</td>\n",
       "      <td>1.35356</td>\n",
       "      <td>1.35357</td>\n",
       "      <td>1.35348</td>\n",
       "      <td>1.35348</td>\n",
       "      <td>12.2200</td>\n",
       "    </tr>\n",
       "    <tr>\n",
       "      <th>1</th>\n",
       "      <td>2022.01.03 00:05:00</td>\n",
       "      <td>1.35348</td>\n",
       "      <td>1.35348</td>\n",
       "      <td>1.35348</td>\n",
       "      <td>1.35348</td>\n",
       "      <td>0.3700</td>\n",
       "    </tr>\n",
       "    <tr>\n",
       "      <th>2</th>\n",
       "      <td>2022.01.03 00:10:00</td>\n",
       "      <td>1.35348</td>\n",
       "      <td>1.35382</td>\n",
       "      <td>1.35348</td>\n",
       "      <td>1.35367</td>\n",
       "      <td>7.4100</td>\n",
       "    </tr>\n",
       "    <tr>\n",
       "      <th>3</th>\n",
       "      <td>2022.01.03 00:15:00</td>\n",
       "      <td>1.35367</td>\n",
       "      <td>1.35367</td>\n",
       "      <td>1.35367</td>\n",
       "      <td>1.35367</td>\n",
       "      <td>1.4000</td>\n",
       "    </tr>\n",
       "    <tr>\n",
       "      <th>4</th>\n",
       "      <td>2022.01.03 00:20:00</td>\n",
       "      <td>1.35347</td>\n",
       "      <td>1.35363</td>\n",
       "      <td>1.35347</td>\n",
       "      <td>1.35363</td>\n",
       "      <td>0.7000</td>\n",
       "    </tr>\n",
       "    <tr>\n",
       "      <th>5</th>\n",
       "      <td>2022.01.03 00:25:00</td>\n",
       "      <td>1.35363</td>\n",
       "      <td>1.35363</td>\n",
       "      <td>1.35348</td>\n",
       "      <td>1.35348</td>\n",
       "      <td>10.3000</td>\n",
       "    </tr>\n",
       "    <tr>\n",
       "      <th>6</th>\n",
       "      <td>2022.01.03 00:30:00</td>\n",
       "      <td>1.35348</td>\n",
       "      <td>1.35349</td>\n",
       "      <td>1.35317</td>\n",
       "      <td>1.35318</td>\n",
       "      <td>8.7875</td>\n",
       "    </tr>\n",
       "    <tr>\n",
       "      <th>7</th>\n",
       "      <td>2022.01.03 00:35:00</td>\n",
       "      <td>1.35317</td>\n",
       "      <td>1.35354</td>\n",
       "      <td>1.35310</td>\n",
       "      <td>1.35354</td>\n",
       "      <td>1.9775</td>\n",
       "    </tr>\n",
       "    <tr>\n",
       "      <th>8</th>\n",
       "      <td>2022.01.03 00:40:00</td>\n",
       "      <td>1.35351</td>\n",
       "      <td>1.35388</td>\n",
       "      <td>1.35331</td>\n",
       "      <td>1.35346</td>\n",
       "      <td>72.2475</td>\n",
       "    </tr>\n",
       "    <tr>\n",
       "      <th>9</th>\n",
       "      <td>2022.01.03 00:45:00</td>\n",
       "      <td>1.35347</td>\n",
       "      <td>1.35359</td>\n",
       "      <td>1.35319</td>\n",
       "      <td>1.35325</td>\n",
       "      <td>34.3484</td>\n",
       "    </tr>\n",
       "  </tbody>\n",
       "</table>\n",
       "</div>"
      ],
      "text/plain": [
       "            Time (EET)     Open     High      Low    Close   Volume\n",
       "0  2022.01.03 00:00:00  1.35356  1.35357  1.35348  1.35348  12.2200\n",
       "1  2022.01.03 00:05:00  1.35348  1.35348  1.35348  1.35348   0.3700\n",
       "2  2022.01.03 00:10:00  1.35348  1.35382  1.35348  1.35367   7.4100\n",
       "3  2022.01.03 00:15:00  1.35367  1.35367  1.35367  1.35367   1.4000\n",
       "4  2022.01.03 00:20:00  1.35347  1.35363  1.35347  1.35363   0.7000\n",
       "5  2022.01.03 00:25:00  1.35363  1.35363  1.35348  1.35348  10.3000\n",
       "6  2022.01.03 00:30:00  1.35348  1.35349  1.35317  1.35318   8.7875\n",
       "7  2022.01.03 00:35:00  1.35317  1.35354  1.35310  1.35354   1.9775\n",
       "8  2022.01.03 00:40:00  1.35351  1.35388  1.35331  1.35346  72.2475\n",
       "9  2022.01.03 00:45:00  1.35347  1.35359  1.35319  1.35325  34.3484"
      ]
     },
     "execution_count": 2,
     "metadata": {},
     "output_type": "execute_result"
    }
   ],
   "source": [
    "import numpy as np\n",
    "import pandas as pd\n",
    "from sklearn.model_selection import train_test_split\n",
    "from sklearn.preprocessing import MinMaxScaler\n",
    "from sklearn.metrics import mean_squared_error, mean_absolute_percentage_error\n",
    "from keras.models import Sequential\n",
    "from keras.layers import LSTM, Dense\n",
    "from keras.optimizers import Adam\n",
    "import matplotlib.pyplot as plt\n",
    "\n",
    "\n",
    "# get the historical data of GBPUSD from 2022.01.01 to 2023.12.31\n",
    "data = pd.read_csv(\"GBPUSD_5 Mins_Ask_2022.01.01_2023.12.31.csv\") \n",
    "print(data.shape)\n",
    "data.head(10)"
   ]
  },
  {
   "cell_type": "markdown",
   "metadata": {},
   "source": [
    "We’ll predict the **closing prices,** which can be accessed in the **Close column.**\n",
    "\n"
   ]
  },
  {
   "cell_type": "code",
   "execution_count": 14,
   "metadata": {},
   "outputs": [],
   "source": [
    "# Selecting 'Open', 'Volume' as features and 'Close' as target\n",
    "features = data[['Open', 'Volume']].values\n",
    "target = data['Close'].values\n",
    "\n",
    "# Normalizing the data\n",
    "scaler_features = MinMaxScaler()\n",
    "scaler_target = MinMaxScaler()\n",
    "features_scaled = scaler_features.fit_transform(features)\n",
    "target_scaled = scaler_target.fit_transform(target.reshape(-1, 1))\n",
    "\n",
    "# Reshaping input to be [samples, time steps, features] which is required for LSTM\n",
    "X = features_scaled.reshape((features_scaled.shape[0], 1, features_scaled.shape[1]))\n",
    "y = target_scaled\n"
   ]
  },
  {
   "cell_type": "markdown",
   "metadata": {},
   "source": [
    "## Step 2: Model Building"
   ]
  },
  {
   "cell_type": "code",
   "execution_count": 15,
   "metadata": {},
   "outputs": [
    {
     "name": "stdout",
     "output_type": "stream",
     "text": [
      "Model: \"sequential_2\"\n",
      "_________________________________________________________________\n",
      " Layer (type)                Output Shape              Param #   \n",
      "=================================================================\n",
      " lstm_2 (LSTM)               (None, 50)                10600     \n",
      "                                                                 \n",
      " dense_2 (Dense)             (None, 1)                 51        \n",
      "                                                                 \n",
      "=================================================================\n",
      "Total params: 10651 (41.61 KB)\n",
      "Trainable params: 10651 (41.61 KB)\n",
      "Non-trainable params: 0 (0.00 Byte)\n",
      "_________________________________________________________________\n",
      "None\n"
     ]
    }
   ],
   "source": [
    "# Building the LSTM model\n",
    "model = Sequential()\n",
    "model.add(LSTM(50, activation='relu', input_shape=(1, 2)))\n",
    "model.add(Dense(1))\n",
    "model.compile(optimizer='adam', loss='mean_squared_error')\n",
    "\n",
    "print(model.summary()) "
   ]
  },
  {
   "cell_type": "markdown",
   "metadata": {},
   "source": [
    "\n",
    "## Step 3: Model Training"
   ]
  },
  {
   "cell_type": "code",
   "execution_count": 16,
   "metadata": {},
   "outputs": [
    {
     "name": "stdout",
     "output_type": "stream",
     "text": [
      "Epoch 1/10\n",
      "4675/4675 [==============================] - 4s 825us/step - loss: 0.0057\n",
      "Epoch 2/10\n",
      "4675/4675 [==============================] - 4s 860us/step - loss: 3.4582e-06\n",
      "Epoch 3/10\n",
      "4675/4675 [==============================] - 4s 818us/step - loss: 3.1176e-06\n",
      "Epoch 4/10\n",
      "4675/4675 [==============================] - 4s 877us/step - loss: 2.8860e-06\n",
      "Epoch 5/10\n",
      "4675/4675 [==============================] - 4s 840us/step - loss: 2.7501e-06\n",
      "Epoch 6/10\n",
      "4675/4675 [==============================] - 4s 825us/step - loss: 2.7578e-06\n",
      "Epoch 7/10\n",
      "4675/4675 [==============================] - 4s 825us/step - loss: 2.6910e-06\n",
      "Epoch 8/10\n",
      "4675/4675 [==============================] - 4s 877us/step - loss: 2.7436e-06\n",
      "Epoch 9/10\n",
      "4675/4675 [==============================] - 4s 841us/step - loss: 2.7195e-06\n",
      "Epoch 10/10\n",
      "4675/4675 [==============================] - 4s 846us/step - loss: 2.7225e-06\n"
     ]
    },
    {
     "data": {
      "text/plain": [
       "<keras.src.callbacks.History at 0x2960707c0>"
      ]
     },
     "execution_count": 16,
     "metadata": {},
     "output_type": "execute_result"
    }
   ],
   "source": [
    "# Train the model\n",
    "model.fit(X, y, epochs=10, batch_size=32, verbose=1)\n"
   ]
  },
  {
   "cell_type": "markdown",
   "metadata": {},
   "source": [
    "## Step 4: Model Evaluation"
   ]
  },
  {
   "cell_type": "code",
   "execution_count": 18,
   "metadata": {},
   "outputs": [
    {
     "name": "stdout",
     "output_type": "stream",
     "text": [
      "4675/4675 [==============================] - 2s 445us/step\n",
      "                           Metric         Value\n",
      "0              Mean Squared Error  2.602210e-07\n",
      "1  Mean Absolute Percentage Error  2.776081e-04\n"
     ]
    }
   ],
   "source": [
    "# Making predictions\n",
    "predictions_scaled = model.predict(X)\n",
    "\n",
    "# Rescaling the predictions back to the original scale\n",
    "predictions = scaler_target.inverse_transform(predictions_scaled)\n",
    "actual = scaler_target.inverse_transform(y)\n",
    "\n",
    "# Calculating evaluation metrics\n",
    "mse = mean_squared_error(actual, predictions)\n",
    "mape = mean_absolute_percentage_error(actual, predictions)\n",
    "\n",
    "# Creating a table for results\n",
    "results_df = pd.DataFrame({\n",
    "    \"Metric\": [\"Mean Squared Error\", \"Mean Absolute Percentage Error\"],\n",
    "    \"Value\": [mse, mape]\n",
    "})\n",
    "\n",
    "# Displaying the results in a DataFrame\n",
    "print(results_df)"
   ]
  },
  {
   "cell_type": "markdown",
   "metadata": {},
   "source": [
    "## Step 5: The Results"
   ]
  },
  {
   "cell_type": "code",
   "execution_count": 20,
   "metadata": {},
   "outputs": [
    {
     "data": {
      "image/png": "[encoded data removed]",
      "text/plain": [
       "<Figure size 1000x500 with 1 Axes>"
      ]
     },
     "metadata": {},
     "output_type": "display_data"
    }
   ],
   "source": [
    "# Plotting the actual vs predicted values\n",
    "plt.figure(figsize=(10, 5))\n",
    "plt.plot(actual, label='Actual Closing Price')\n",
    "plt.plot(predictions, label='Predicted Closing Price', alpha=0.7)\n",
    "plt.title('Comparison of Actual and Predicted Closing Prices')\n",
    "plt.xlabel('Time Steps')\n",
    "plt.ylabel('Price')\n",
    "plt.legend()\n",
    "plt.show()"
   ]
  }
 ],
 "metadata": {
  "kernelspec": {
   "display_name": "kerasenv",
   "language": "python",
   "name": "python3"
  },
  "language_info": {
   "codemirror_mode": {
    "name": "ipython",
    "version": 3
   },
   "file_extension": ".py",
   "mimetype": "text/x-python",
   "name": "python",
   "nbconvert_exporter": "python",
   "pygments_lexer": "ipython3",
   "version": "3.8.18"
  }
 },
 "nbformat": 4,
 "nbformat_minor": 2
}
